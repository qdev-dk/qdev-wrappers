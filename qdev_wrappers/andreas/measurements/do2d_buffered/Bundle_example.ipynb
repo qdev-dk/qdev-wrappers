{
 "cells": [
  {
   "cell_type": "markdown",
   "metadata": {},
   "source": [
    "#  Example with Stanford SR830 Bundle"
   ]
  },
  {
   "cell_type": "code",
   "execution_count": 1,
   "metadata": {},
   "outputs": [
    {
     "data": {
      "text/plain": [
       "tutorial_exp#no sample#1@C:\\Users\\Farzad\\Documents\\Rasmus\\SR830ext\\tutorial_doND.db\n",
       "-----------------------------------------------------------------------------------\n",
       "1-results-1-lockin_setpoints,lockin_trace-1\n",
       "2-results-2-gen2_v_now,lockin_setpoints,lockin_trace-20\n",
       "3-results-3-lockin_setpoints,lockin_trace-1\n",
       "4-results-4-gen2_v_now,lockin_setpoints,lockin_trace-20\n",
       "5-results-5-lockin_setpoints,lockin_trace-0\n",
       "6-results-6-lockin_setpoints,lockin_trace-0\n",
       "7-results-7-lockin_setpoints,lockin_trace-1\n",
       "8-results-8-gen2_v_now,lockin_setpoints,lockin_trace-20\n",
       "9-results-9-lockin_setpoints,lockin_trace-1\n",
       "10-results-10-lockin_setpoints,lockin_trace-1\n",
       "11-results-11-gen2_v_now,lockin_setpoints,lockin_trace-20\n",
       "12-results-12-lockin_setpoints,lockin_trace-1\n",
       "13-results-13-gen2_v_now,lockin_setpoints,lockin_trace-20\n",
       "14-results-14-slow_v_now,bundle_setpoints,bundle_trace_lockin-0\n",
       "15-results-15-slow_v_now,bundle_setpoints,bundle_trace_lockin-0\n",
       "16-results-16-slow_v_now,bundle_setpoints,bundle_trace_lockin-0\n",
       "17-results-17-slow_v_now,bundle_setpoints,bundle_trace_lockin-0\n",
       "18-results-18-slow_v_now,bundle_setpoints,bundle_trace_lockin-0\n",
       "19-results-19-slow_v_now,bundle_setpoints,bundle_trace_lockin-0\n",
       "20-results-20-slow_v_now,bundle_setpoints,bundle_trace_lockin-0\n",
       "21-results-21-slow_v_now,bundle_setpoints,bundle_trace_lockin-20\n",
       "22-results-22-slow_v_now,bundle_setpoints,bundle_trace_lockin-6\n",
       "23-results-23-slow_v_now,bundle_setpoints,bundle_trace_lockin-4\n",
       "24-results-24-slow_v_now,bundle_setpoints,bundle_trace_lockin-20\n",
       "25-results-25-slow_v_now,bundle_setpoints,bundle_trace_lockin-20\n",
       "26-results-26-slow_v_now,bundle_setpoints,bundle_trace_lockin-20\n",
       "27-results-27-slow_v_now,bundle_setpoints,bundle_trace_lockin-20\n",
       "28-results-28-slow_v_now,bundle_setpoints,bundle_trace_lockin-20\n",
       "29-results-29-slow_v_now,bundle_setpoints,bundle_trace_lockin-20\n",
       "30-results-30-slow_v_now,bundle_setpoints,bundle_trace_lockin-20\n",
       "31-results-31-slow_v_now,bundle_setpoints,bundle_trace_lockin-20\n",
       "32-results-32-slow_v_now,bundle_setpoints,bundle_trace_lockin-20\n",
       "33-results-33-slow_v_now,bundle_setpoints,bundle_trace_lockin-20\n",
       "34-results-34-slow_v_now,bundle_setpoints,bundle_trace_lockin-0\n",
       "35-results-35-slow_v_now,bundle_setpoints,bundle_trace_lockin-20\n",
       "36-results-36-slow_v_now,bundle_setpoints,bundle_trace_lockin-20\n",
       "37-results-37-slow_v_now,bundle_setpoints,bundle_trace_lockin-20\n",
       "38-results-38-slow_v_now,bundle_setpoints,bundle_trace_lockin-20\n",
       "39-results-39-slow_v_now,bundle_setpoints,bundle_trace_lockin-20\n",
       "40-results-40-slow_v_now,bundle_setpoints,bundle_trace_lockin-0\n",
       "41-results-41-slow_v_now,bundle_setpoints,bundle_trace_lockin-20\n",
       "42-results-42-slow_v_now,bundle_setpoints,bundle_trace_lockin-20\n",
       "43-results-43-slow_v_now,bundle_setpoints,bundle_trace_lockin-0\n",
       "44-results-44-slow_v_now,bundle_setpoints,bundle_trace_lockin-0\n",
       "45-results-45-slow_v_now,bundle_setpoints,bundle_trace_lockin-0\n",
       "46-results-46-slow_v_now,bundle_setpoints,bundle_trace_lockin-0\n",
       "47-results-47-slow_v_now,bundle_setpoints,bundle_trace_lockin-0\n",
       "48-results-48-slow_v_now,bundle_setpoints,bundle_trace_lockin-0\n",
       "49-results-49-slow_v_now,bundle_setpoints,bundle_trace_lockin-0\n",
       "50-results-50-slow_v_now,bundle_setpoints,bundle_trace_lockin-0\n",
       "51-results-51-slow_v_now,bundle_setpoints,bundle_trace_lockin-20\n",
       "52-results-52-slow_v_now,bundle_setpoints,bundle_trace_lockin-0\n",
       "53-results-53-slow_v_now,bundle_setpoints,bundle_trace_lockin-1\n",
       "54-results-54-slow_v_now,bundle_setpoints,bundle_trace_lockin-10\n",
       "55-results-55-slow_v_now,bundle_setpoints,bundle_trace_lockin-20\n",
       "56-results-56-slow_v_now,bundle_setpoints,bundle_trace_lockin-20\n",
       "57-results-57-slow_v_now,bundle_setpoints,bundle_trace_lockin-20\n",
       "58-results-58-slow_v_now,bundle_setpoints,bundle_trace_lockin-0\n",
       "59-results-59-slow_v_now,bundle_setpoints,bundle_trace_lockin-3\n",
       "60-results-60-slow_v_now,bundle_setpoints,bundle_trace_lockin-20\n",
       "61-results-61-slow_v_now,bundle_setpoints,bundle_trace_lockin-20\n",
       "62-results-62-slow_v_now,bundle_setpoints,bundle_trace_lockin-20\n",
       "63-results-63-slow_v_now,bundle_setpoints,bundle_trace_lockin-20\n",
       "64-results-64-slow_v_now,bundle_setpoints,bundle_trace_lockin-20\n",
       "65-results-65-slow_v_now,bundle_setpoints,bundle_trace_lockin,bundle_trace_lockin2-40\n",
       "66-results-66-slow_v_now,bundle_setpoints,bundle_trace_lockin,bundle_trace_lockin2-40\n",
       "67-results-67-slow_v_now,bundle_setpoints,bundle_trace_lockin,bundle_trace_lockin2-40\n",
       "68-results-68-slow_v_now,bundle_setpoints,bundle_trace_lockin,bundle_trace_lockin2-40\n",
       "69-results-69-slow_v_now,bundle_setpoints,bundle_trace_lockin,bundle_trace_lockin2-40\n",
       "70-results-70-slow_v_now,bundle_setpoints,bundle_trace_lockin,bundle_trace_lockin2-10\n",
       "71-results-71-slow_v_now,bundle_setpoints,bundle_trace_lockin,bundle_trace_lockin2-16\n",
       "72-results-72-slow_v_now,bundle_setpoints,bundle_trace_lockin,bundle_trace_lockin2-22\n",
       "73-results-73-slow_v_now,bundle_setpoints,bundle_trace_lockin,bundle_trace_lockin2-40\n",
       "74-results-74-slow_v_now,bundle_setpoints,bundle_trace_lockin,bundle_trace_lockin2-2\n",
       "75-results-75-slow_v_now,bundle_setpoints,bundle_trace_lockin,bundle_trace_lockin2-38\n",
       "76-results-76-slow_v_now,bundle_setpoints,bundle_trace_lockin,bundle_trace_lockin2-40\n",
       "77-results-77-slow_v_now,bundle_setpoints,bundle_trace_lockin,bundle_trace_lockin2-40\n",
       "78-results-78-slow_v_now,bundle_setpoints,bundle_trace_lockin,bundle_trace_lockin2-0\n",
       "79-results-79-slow_v_now,bundle_setpoints,bundle_trace_lockin,bundle_trace_lockin2-40\n",
       "80-results-80-slow_v_now,bundle_setpoints,bundle_trace_lockin,bundle_trace_lockin2-40\n",
       "81-results-81-slow_v_now,bundle_setpoints,bundle_trace_lockin,bundle_trace_lockin2-12\n",
       "82-results-82-slow_v_now,bundle_setpoints,bundle_trace_lockin,bundle_trace_lockin2-12\n",
       "83-results-83-slow_v_now,bundle_setpoints,bundle_trace_lockin,bundle_trace_lockin2-40\n",
       "84-results-84-slow_v_now,bundle_setpoints,bundle_trace_lockin,bundle_trace_lockin2-0\n",
       "85-results-85-slow_v_now,bundle_setpoints,bundle_trace_lockin,bundle_trace_lockin2-40\n",
       "86-results-86-slow_v_now,bundle_setpoints,bundle_trace_lockin,bundle_trace_lockin2-4\n",
       "87-results-87-slow_v_now,bundle_setpoints,bundle_trace_lockin,bundle_trace_lockin2-16\n",
       "88-results-88-slow_v_now,bundle_setpoints,bundle_trace_lockin,bundle_trace_lockin2-38\n",
       "89-results-89-slow_v_now,bundle_setpoints,bundle_trace_lockin,bundle_trace_lockin2-40\n",
       "90-results-90-slow_v_now,bundle_setpoints,bundle_trace_lockin,bundle_trace_lockin2-0\n",
       "91-results-91-slow_v_now,bundle_setpoints,bundle_trace_lockin,bundle_trace_lockin2-0"
      ]
     },
     "execution_count": 1,
     "metadata": {},
     "output_type": "execute_result"
    }
   ],
   "source": [
    "# IMPORTS\n",
    "\n",
    "#%matplotlib notebook\n",
    "import qcodes as qc\n",
    "import os\n",
    "import numpy as np\n",
    "import time\n",
    "#import progressbar\n",
    "from time import sleep\n",
    "from qcodes.instrument_drivers.stanford_research.SR830 import SR830\n",
    "from SR830_ext import SR830_ext\n",
    "from bundle_lockin import BundleLockin, do2d_multi\n",
    "from qcodes.instrument.base import Instrument\n",
    "from qcodes.utils.validators import Numbers, Arrays\n",
    "from qcodes.utils.dataset import doNd\n",
    "\n",
    "\n",
    "\n",
    "from qcodes import initialise_or_create_database_at, load_or_create_experiment, load_by_id, Measurement\n",
    "tutorial_db_path = os.path.join(os.getcwd(), 'tutorial_doND.db')\n",
    "initialise_or_create_database_at(tutorial_db_path)\n",
    "load_or_create_experiment(experiment_name='tutorial_exp', sample_name=\"no sample\")"
   ]
  },
  {
   "cell_type": "code",
   "execution_count": 2,
   "metadata": {},
   "outputs": [],
   "source": [
    "class DummyGenerator(Instrument):\n",
    "\n",
    "    def __init__(self, name, **kwargs):\n",
    "\n",
    "        super().__init__(name, **kwargs)\n",
    "\n",
    "        self.add_parameter('v_start',\n",
    "                           initial_value=0,\n",
    "                           unit='V',\n",
    "                           label='v start',\n",
    "                           vals=Numbers(0,1e3),\n",
    "                           get_cmd=None,\n",
    "                           set_cmd=None)\n",
    "\n",
    "        self.add_parameter('v_stop',\n",
    "                           initial_value=1,\n",
    "                           unit='V',\n",
    "                           label='v stop',\n",
    "                           vals=Numbers(1,1e3),\n",
    "                           get_cmd=None,\n",
    "                           set_cmd=None)\n",
    "        \n",
    "        self.add_parameter('v_now',\n",
    "                           initial_value=0,\n",
    "                           unit='V',\n",
    "                           label='v_now',\n",
    "                           vals=Numbers(self.v_start(),self.v_stop()),\n",
    "                           get_cmd=None,\n",
    "                           set_cmd=None)"
   ]
  },
  {
   "cell_type": "code",
   "execution_count": 3,
   "metadata": {},
   "outputs": [],
   "source": [
    "slow = DummyGenerator('slow')\n",
    "fast = DummyGenerator('fast')"
   ]
  },
  {
   "cell_type": "code",
   "execution_count": 4,
   "metadata": {},
   "outputs": [
    {
     "name": "stdout",
     "output_type": "stream",
     "text": [
      "Connected to: Stanford_Research_Systems SR830 (serial:s/n40974, firmware:ver1.07) in 0.21s\n"
     ]
    }
   ],
   "source": [
    "# CONNECT TO INSTRUMENT\n",
    "\n",
    "sr = SR830_ext('lockin', 'GPIB0::1::INSTR')"
   ]
  },
  {
   "cell_type": "code",
   "execution_count": 5,
   "metadata": {},
   "outputs": [
    {
     "name": "stdout",
     "output_type": "stream",
     "text": [
      "Connected to: Stanford_Research_Systems SR830 (serial:s/n70597, firmware:ver1.07) in 0.06s\n"
     ]
    }
   ],
   "source": [
    "# CONNECT TO INSTRUMENT\n",
    "\n",
    "sr2 = SR830_ext('lockin2', 'GPIB0::2::INSTR')"
   ]
  },
  {
   "cell_type": "code",
   "execution_count": 6,
   "metadata": {},
   "outputs": [],
   "source": [
    "sr.ch1_display('X')\n",
    "sr.ch1_ratio('none')\n",
    "sr.buffer_SR('Trigger')\n",
    "sr.buffer_trig_mode.set('ON')\n",
    "sr2.ch1_display('X')\n",
    "sr2.ch1_ratio('none')\n",
    "sr2.buffer_SR('Trigger')\n",
    "sr2.buffer_trig_mode.set('ON')\n",
    "#sr.set_sweep_parameters(fast.v_now, 0,0.5,20,0.2, label=\"Voltage\")"
   ]
  },
  {
   "cell_type": "code",
   "execution_count": 7,
   "metadata": {},
   "outputs": [],
   "source": [
    "lockins = (sr,sr2)\n",
    "bundle = BundleLockin('bundle',lockins)\n"
   ]
  },
  {
   "cell_type": "code",
   "execution_count": 10,
   "metadata": {},
   "outputs": [
    {
     "name": "stdout",
     "output_type": "stream",
     "text": [
      "Starting experimental run with id: 94. \n",
      "Have finished the measurement in 106.18482740000002 seconds. run_id 94\n",
      "Time used in buffer reset 0.1375211999997532. Time used in send trigger 5.443418099998553. Time used in get trace 5.258122699999888\n",
      "time in the fast loop 100.06767869999976\n",
      "time setting in the fast loop 94.5977684\n"
     ]
    }
   ],
   "source": [
    "do2d_multi(param_slow = slow.v_now,\n",
    "           start_slow = 0,\n",
    "           stop_slow = 0.5,\n",
    "           num_points_slow = 40,\n",
    "           delay_slow = 0.005,\n",
    "           param_fast = fast.v_now,\n",
    "           start_fast = 0,\n",
    "           stop_fast = 0.5,\n",
    "           num_points_fast = 40, \n",
    "           delay_fast = 0.05,\n",
    "           bundle = bundle,\n",
    "           threading=[True,False,False,True]\n",
    "              )"
   ]
  },
  {
   "cell_type": "code",
   "execution_count": null,
   "metadata": {},
   "outputs": [],
   "source": []
  }
 ],
 "metadata": {
  "kernelspec": {
   "display_name": "Python 3",
   "language": "python",
   "name": "python3"
  },
  "language_info": {
   "codemirror_mode": {
    "name": "ipython",
    "version": 3
   },
   "file_extension": ".py",
   "mimetype": "text/x-python",
   "name": "python",
   "nbconvert_exporter": "python",
   "pygments_lexer": "ipython3",
   "version": "3.7.5"
  },
  "nbsphinx": {
   "execute": "never"
  }
 },
 "nbformat": 4,
 "nbformat_minor": 2
}
