{
 "cells": [
  {
   "cell_type": "code",
   "execution_count": 1,
   "metadata": {},
   "outputs": [
    {
     "name": "stderr",
     "output_type": "stream",
     "text": [
      "/Users/natalie/Documents/PhD/Qdev/QdevWrappers/qdev_wrappers/logger.py:16: UserWarning: The logger.py of qdev-wrappers is deprecated and will be removed soon. Please use the logger of QCoDeS instead.\n",
      "  warnings.warn('The logger.py of qdev-wrappers is deprecated and will be '\n"
     ]
    }
   ],
   "source": [
    "from qcodes.instrument_drivers.rohde_schwarz.SGS100A import RohdeSchwarz_SGS100A\n",
    "from qdev_wrappers.customised_instruments.interfaces.microwave_source_interface import SimulatedMicrowaveSourceInterface, SGS100AMicrowaveSourceInterface"
   ]
  },
  {
   "cell_type": "code",
   "execution_count": 2,
   "metadata": {},
   "outputs": [],
   "source": [
    "real_instrument_present = False"
   ]
  },
  {
   "cell_type": "code",
   "execution_count": 3,
   "metadata": {},
   "outputs": [],
   "source": [
    "def print_params(instr):\n",
    "    print(instr.name.upper())\n",
    "    for k, v in instr.parameters.items():\n",
    "        if k != 'IDN':\n",
    "            print(k, ': ', v())\n",
    "    print('\\n')"
   ]
  },
  {
   "cell_type": "markdown",
   "metadata": {},
   "source": [
    "A simulated microwave source initialises without defaults but a function exists to set it to some defaults at any time. A real microwave source will also initialise with parameter values as None (but if you call get it will update them)<br>\n",
    "NB: status, IQ_state and pulsemod_state can be set with any (reasonable) bool-like argument and the 'raw value' set on the simulated instrument will be 1 or 0 but they will always return booleans as per the on_off_val_mapping in use. "
   ]
  },
  {
   "cell_type": "code",
   "execution_count": 4,
   "metadata": {},
   "outputs": [
    {
     "name": "stdout",
     "output_type": "stream",
     "text": [
      "SIMULATED_SOURCE\n",
      "frequency :  6000000000.0\n",
      "power :  -10\n",
      "status :  0\n",
      "pulsemod_state :  0\n",
      "IQ_state :  0\n",
      "\n",
      "\n"
     ]
    }
   ],
   "source": [
    "if real_instrument_present:\n",
    "    instrument = RohdeSchwarz_SGS100A('microwave_source', '')\n",
    "    source_if = SGS100AMicrowaveSourceInterface('real_source', instrument)\n",
    "else:\n",
    "    source_if = SimulatedMicrowaveSourceInterface('simulated_source')\n",
    "\n",
    "source_if.to_default()\n",
    "print_params(source_if)"
   ]
  },
  {
   "cell_type": "code",
   "execution_count": 5,
   "metadata": {},
   "outputs": [
    {
     "name": "stdout",
     "output_type": "stream",
     "text": [
      "SIMULATED_SOURCE\n",
      "frequency :  8000000000.0\n",
      "power :  -15\n",
      "status :  1\n",
      "pulsemod_state :  1\n",
      "IQ_state :  0\n",
      "\n",
      "\n"
     ]
    }
   ],
   "source": [
    "source_if.frequency(8e9)\n",
    "source_if.power(-15)\n",
    "source_if.status(1)\n",
    "source_if.IQ_state(0)\n",
    "source_if.pulsemod_state(1)\n",
    "print_params(source_if)"
   ]
  },
  {
   "cell_type": "markdown",
   "metadata": {},
   "source": [
    "Since some sources do not have the IQ state option in hardware this can be entered manually on initialisation and the parameter will not be settable."
   ]
  },
  {
   "cell_type": "code",
   "execution_count": 6,
   "metadata": {},
   "outputs": [
    {
     "name": "stdout",
     "output_type": "stream",
     "text": [
      "('Parmeter IQ_state not settable', 'setting simulated_source_cw_IQ_state to 1')\n"
     ]
    }
   ],
   "source": [
    "if real_instrument_present:\n",
    "    cw_source_if = SGS100AMicrowaveSourceInterface('real_source_cw', instrument)\n",
    "else:\n",
    "    cw_source_if = SimulatedMicrowaveSourceInterface('simulated_source_cw', IQ_option=False)\n",
    "\n",
    "try:\n",
    "    cw_source_if.IQ_state(1)\n",
    "except RuntimeError as e:\n",
    "    print(e)"
   ]
  }
 ],
 "metadata": {
  "kernelspec": {
   "display_name": "Python 3",
   "language": "python",
   "name": "python3"
  },
  "language_info": {
   "codemirror_mode": {
    "name": "ipython",
    "version": 3
   },
   "file_extension": ".py",
   "mimetype": "text/x-python",
   "name": "python",
   "nbconvert_exporter": "python",
   "pygments_lexer": "ipython3",
   "version": "3.6.7"
  }
 },
 "nbformat": 4,
 "nbformat_minor": 2
}
