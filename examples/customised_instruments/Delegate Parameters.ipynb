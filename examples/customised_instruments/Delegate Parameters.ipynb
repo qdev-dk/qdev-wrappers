{
 "cells": [
  {
   "cell_type": "code",
   "execution_count": 1,
   "metadata": {},
   "outputs": [],
   "source": [
    "import numpy as np\n",
    "np.set_printoptions(precision=2)\n",
    "from qcodes.instrument.base import Instrument\n",
    "from qcodes.instrument.parameter import ArrayParameter, MultiParameter\n",
    "from qcodes.instrument.channel import InstrumentChannel, ChannelList\n",
    "import matplotlib.pyplot as plt\n",
    "%matplotlib inline"
   ]
  },
  {
   "cell_type": "code",
   "execution_count": 2,
   "metadata": {},
   "outputs": [],
   "source": [
    "def print_params(instr):\n",
    "    for k, v in instr.parameters.items():\n",
    "        print(k, ': ', v())\n",
    "        if isinstance(v, ArrayParameter) and v.setpoints is not None:\n",
    "            print('\\t - setpoints: ', v.setpoint_names, v.setpoints)"
   ]
  },
  {
   "cell_type": "markdown",
   "metadata": {},
   "source": [
    "## Setting up some parameters to be delegates of..."
   ]
  },
  {
   "cell_type": "markdown",
   "metadata": {},
   "source": [
    "- Make an array parameter that returns an array an (n,) shape array with setpoints\n",
    "\n",
    "- Make a multi param that returns two values, one a single point and one an array with shape (3,) no setpoints\n",
    "\n",
    "- Make an instrument channel that has an ArrayParameter and a ManualParameter\n",
    "\n",
    "- Make an instrument that has a parameter, an array parameter, a multi parameter and two channels"
   ]
  },
  {
   "cell_type": "code",
   "execution_count": 3,
   "metadata": {},
   "outputs": [],
   "source": [
    "class MyArrayParam(ArrayParameter):\n",
    "    def __init__(self, name, instrument, start, stop, npts, **kwargs):\n",
    "        super().__init__(name=name, instrument=instrument, shape=(npts,), **kwargs)\n",
    "        self.set_up(start, stop, npts)\n",
    "    \n",
    "    def set_up(self, start, stop, npts):\n",
    "        self.setpoints = (tuple(np.linspace(start, stop, npts)), )\n",
    "        self.setpoint_names = ('array_param_setpoints',)\n",
    "        self.shape = (npts,)\n",
    "       \n",
    "    def get_raw(self):\n",
    "        return np.random.random(self.shape) * self.setpoints[0]\n",
    "    \n",
    "class MyMultiParam(MultiParameter):\n",
    "    def __init__(self, name, instrument):\n",
    "        super().__init__(name=name, instrument=instrument, names=('a', 'b'), shapes=((1,), (3,)))\n",
    "       \n",
    "    def get_raw(self):\n",
    "        return np.random.random(), 0.1 * np.arange(3)\n",
    "\n",
    "class MyInstrumentChannel(InstrumentChannel):\n",
    "    def __init__(self, parent, name):\n",
    "        super().__init__(parent=parent, name=name)\n",
    "        self.add_parameter(name='chan_array_param',\n",
    "                           parameter_class=MyArrayParam,\n",
    "                           start=100,\n",
    "                           stop=5000,\n",
    "                           npts=4,\n",
    "                           setpoint_names=('array_param_setpoints',))\n",
    "        self.add_parameter(name='chan_param',\n",
    "                           set_cmd=None,\n",
    "                           initial_value=10)\n",
    "                       \n",
    "class MyInstrument(Instrument):\n",
    "    def __init__(self, name):\n",
    "        super().__init__(name)\n",
    "        self.add_parameter(name='param',\n",
    "                           initial_value=0.5,\n",
    "                           set_cmd=None,\n",
    "                           label='Parameter')\n",
    "        self.add_parameter(name='array_param',\n",
    "                          parameter_class=MyArrayParam,\n",
    "                          start=0,\n",
    "                          stop=10,\n",
    "                          npts=6,\n",
    "                          label='Array Param')\n",
    "        self.add_parameter(name='multi_param',\n",
    "                          parameter_class=MyMultiParam)\n",
    "        instr_chan1 = MyInstrumentChannel(self, 'chan1')\n",
    "        instr_chan2 = MyInstrumentChannel(self, 'chan2')\n",
    "        chan_list = ChannelList(self, 'chan_list', MyInstrumentChannel, [instr_chan1, instr_chan2])\n",
    "        self.add_submodule('chan_list', chan_list)"
   ]
  },
  {
   "cell_type": "code",
   "execution_count": 4,
   "metadata": {},
   "outputs": [],
   "source": [
    "my_instr = MyInstrument('my_instr')"
   ]
  },
  {
   "cell_type": "markdown",
   "metadata": {},
   "source": [
    "### Check ArrayParam"
   ]
  },
  {
   "cell_type": "code",
   "execution_count": 5,
   "metadata": {},
   "outputs": [
    {
     "data": {
      "text/plain": [
       "Text(0, 0.5, 'Array Param')"
      ]
     },
     "execution_count": 5,
     "metadata": {},
     "output_type": "execute_result"
    },
    {
     "data": {
      "image/png": "[encoded data removed]",
      "text/plain": [
       "<Figure size 432x288 with 1 Axes>"
      ]
     },
     "metadata": {
      "needs_background": "light"
     },
     "output_type": "display_data"
    }
   ],
   "source": [
    "fig = plt.figure()\n",
    "plt.plot(my_instr.array_param.setpoints[0], my_instr.array_param())\n",
    "plt.xlabel(my_instr.array_param.setpoint_names[0])\n",
    "plt.ylabel(my_instr.array_param.label)"
   ]
  },
  {
   "cell_type": "markdown",
   "metadata": {},
   "source": [
    "### Check Multi Param"
   ]
  },
  {
   "cell_type": "code",
   "execution_count": 6,
   "metadata": {},
   "outputs": [
    {
     "name": "stdout",
     "output_type": "stream",
     "text": [
      "(0.960784361064729, array([0. , 0.1, 0.2]))\n",
      "None\n"
     ]
    }
   ],
   "source": [
    "print(my_instr.multi_param())\n",
    "print(my_instr.multi_param.setpoints)"
   ]
  },
  {
   "cell_type": "markdown",
   "metadata": {},
   "source": [
    "### Check Channels"
   ]
  },
  {
   "cell_type": "code",
   "execution_count": 7,
   "metadata": {},
   "outputs": [
    {
     "name": "stdout",
     "output_type": "stream",
     "text": [
      "chan 1\n",
      "chan_array_param :  [   1.84    7.82  571.61 1616.46]\n",
      "\t - setpoints:  ('array_param_setpoints',) ((100.0, 1733.3333333333333, 3366.6666666666665, 5000.0),)\n",
      "chan_param :  10\n",
      "chan 2\n",
      "chan_array_param :  [ 15.26 750.67  97.9   44.63]\n",
      "\t - setpoints:  ('array_param_setpoints',) ((100.0, 1733.3333333333333, 3366.6666666666665, 5000.0),)\n",
      "chan_param :  10\n"
     ]
    }
   ],
   "source": [
    "print('chan 1')\n",
    "print_params(my_instr.chan_list[0])\n",
    "print('chan 2')\n",
    "print_params(my_instr.chan_list[1])"
   ]
  },
  {
   "cell_type": "code",
   "execution_count": 8,
   "metadata": {},
   "outputs": [
    {
     "name": "stderr",
     "output_type": "stream",
     "text": [
      "/Users/natalie/Documents/PhD/Qdev/Qcodes/qcodes/instrument/parameter.py:1218: UserWarning: MultiParameters do not support set at this time.\n",
      "  warnings.warn('MultiParameters do not support set at this time.')\n"
     ]
    },
    {
     "name": "stdout",
     "output_type": "stream",
     "text": [
      "Multi_chan_param \n",
      " ('my_instr_chan1_chan_param', 'my_instr_chan2_chan_param') (10, 10)\n"
     ]
    },
    {
     "data": {
      "image/png": "[encoded data removed]",
      "text/plain": [
       "<Figure size 432x288 with 2 Axes>"
      ]
     },
     "metadata": {
      "needs_background": "light"
     },
     "output_type": "display_data"
    }
   ],
   "source": [
    "print(my_instr.chan_list.chan_param.name, '\\n', my_instr.chan_list.chan_param.names, my_instr.chan_list.chan_param())\n",
    "fig, axes = plt.subplots(1, 2)\n",
    "for i, chan_param_val in enumerate(my_instr.chan_list.chan_array_param()):\n",
    "    axes[i].plot(my_instr.chan_list.chan_array_param.setpoints[i][0], chan_param_val)\n",
    "    axes[i].set_xlabel(my_instr.chan_list.chan_array_param.setpoint_names[i][0])\n",
    "    axes[i].set_ylabel(my_instr.chan_list.chan_array_param.full_names[i])\n",
    "plt.tight_layout()"
   ]
  },
  {
   "cell_type": "markdown",
   "metadata": {},
   "source": [
    "## Setting up some delegate parameters"
   ]
  },
  {
   "cell_type": "code",
   "execution_count": 6,
   "metadata": {},
   "outputs": [],
   "source": [
    "from qdev_wrappers.customised_instruments.parameters.delegate_parameters import DelegateParameter, DelegateArrayParameter, DelegateMultiParameter, DelegateMultiChannelParameter"
   ]
  },
  {
   "cell_type": "markdown",
   "metadata": {},
   "source": [
    "### DelegateParameter"
   ]
  },
  {
   "cell_type": "markdown",
   "metadata": {},
   "source": [
    "The most intuitive incarnation is when a source parameter is provided and the DelegateParameter merely tracks it. Here I set it up to track the 'param' parameter on my_instr. The unit will match that of the source parameter but I can provide a custom label if desired (defaults to source label)."
   ]
  },
  {
   "cell_type": "code",
   "execution_count": 7,
   "metadata": {},
   "outputs": [],
   "source": [
    "delegate_param = DelegateParameter('delegate_parameter',\n",
    "                                   source=my_instr.param,\n",
    "                                   label='My Special Delegate Parameter')"
   ]
  },
  {
   "cell_type": "code",
   "execution_count": 8,
   "metadata": {},
   "outputs": [
    {
     "name": "stdout",
     "output_type": "stream",
     "text": [
      "{'value': 0.5, 'ts': datetime.datetime(2019, 1, 14, 13, 50, 12, 928810), 'raw_value': 0.5}\n",
      "{'value': 0.5, 'ts': datetime.datetime(2019, 1, 14, 13, 50, 12, 928815), 'raw_value': 0.5}\n",
      "{'value': 2.5, 'ts': datetime.datetime(2019, 1, 14, 13, 50, 12, 929263), 'raw_value': 2.5}\n",
      "{'value': 2.5, 'ts': datetime.datetime(2019, 1, 14, 13, 50, 12, 929272), 'raw_value': 2.5}\n"
     ]
    }
   ],
   "source": [
    "my_instr.param(0.5)\n",
    "delegate_param()\n",
    "print(my_instr.param._latest)\n",
    "print(delegate_param._latest)\n",
    "delegate_param(2.5)\n",
    "print(my_instr.param._latest)\n",
    "print(delegate_param._latest)"
   ]
  },
  {
   "cell_type": "code",
   "execution_count": 8,
   "metadata": {},
   "outputs": [
    {
     "name": "stdout",
     "output_type": "stream",
     "text": [
      "Parameter\n",
      "My Special Delegate Parameter\n"
     ]
    }
   ],
   "source": [
    "print(my_instr.param.label)\n",
    "print(delegate_param.label)"
   ]
  },
  {
   "cell_type": "markdown",
   "metadata": {},
   "source": [
    "Getting or setting can be prohibited for any kwarg combination by means of the kwargs get_allowed and set_allowed."
   ]
  },
  {
   "cell_type": "code",
   "execution_count": 9,
   "metadata": {},
   "outputs": [
    {
     "name": "stdout",
     "output_type": "stream",
     "text": [
      "('Parmeter delegate_parameter not settable', 'setting delegate_parameter to 2')\n",
      "('Parmeter delegate_parameter not gettable', 'getting delegate_parameter')\n"
     ]
    }
   ],
   "source": [
    "delegate_param = DelegateParameter('delegate_parameter',\n",
    "                                   source=my_instr.param,\n",
    "                                   set_allowed=False,\n",
    "                                   get_allowed=False)\n",
    "try:\n",
    "    delegate_param(2)\n",
    "except RuntimeError as e:\n",
    "    print(e)\n",
    "\n",
    "try:\n",
    "    delegate_param()\n",
    "except RuntimeError as e:\n",
    "    print(e)"
   ]
  },
  {
   "cell_type": "markdown",
   "metadata": {},
   "source": [
    "Callables can be provided via the 'set_fn' and 'get_fn' kwargs which are run before the source set/get is called:"
   ]
  },
  {
   "cell_type": "code",
   "execution_count": 12,
   "metadata": {},
   "outputs": [],
   "source": [
    "delegate_param = DelegateParameter('delegate_parameter', source=my_instr.param,\n",
    "                                   set_fn=lambda x: print('setting to ', x),\n",
    "                                   get_fn=lambda: print('getting'))"
   ]
  },
  {
   "cell_type": "code",
   "execution_count": 16,
   "metadata": {},
   "outputs": [
    {
     "name": "stdout",
     "output_type": "stream",
     "text": [
      "getting\n",
      "setting to  2\n"
     ]
    }
   ],
   "source": [
    "delegate_param()\n",
    "delegate_param(2)"
   ]
  },
  {
   "cell_type": "markdown",
   "metadata": {},
   "source": [
    "If a source is not provided then the behaviour is controlled by the kwargs 'get_fn' and 'set_fn'. The default behaviour is for the parameter to behave like a manual parameter as below."
   ]
  },
  {
   "cell_type": "code",
   "execution_count": 9,
   "metadata": {},
   "outputs": [],
   "source": [
    "delegate_param = DelegateParameter('delegate_parameter', get_fn=None, set_fn=None, random_return=False)"
   ]
  },
  {
   "cell_type": "code",
   "execution_count": 10,
   "metadata": {},
   "outputs": [
    {
     "name": "stdout",
     "output_type": "stream",
     "text": [
      "{'value': 3, 'ts': datetime.datetime(2019, 1, 14, 13, 50, 29, 439184), 'raw_value': 3}\n",
      "3\n"
     ]
    }
   ],
   "source": [
    "delegate_param(3)\n",
    "print(delegate_param._latest)\n",
    "print(delegate_param())"
   ]
  },
  {
   "cell_type": "markdown",
   "metadata": {},
   "source": [
    "A 'set_fn' whill have similar functionality to before; it will be run before saving the value. A 'get_fn' will now be expected to return a result. Returning a random number can be implemented in this way."
   ]
  },
  {
   "cell_type": "code",
   "execution_count": 15,
   "metadata": {},
   "outputs": [],
   "source": [
    "delegate_param = DelegateParameter('delegate_parameter',\n",
    "                                   set_fn=lambda x: print('setting ', x),\n",
    "                                   get_fn=lambda: np.random.random())"
   ]
  },
  {
   "cell_type": "code",
   "execution_count": 16,
   "metadata": {},
   "outputs": [
    {
     "name": "stdout",
     "output_type": "stream",
     "text": [
      "setting  3\n",
      "{'value': 3, 'ts': datetime.datetime(2019, 1, 14, 13, 51, 24, 417161), 'raw_value': 3}\n",
      "0.7044072982754244\n"
     ]
    }
   ],
   "source": [
    "delegate_param(3)\n",
    "print(delegate_param._latest)\n",
    "print(delegate_param())"
   ]
  },
  {
   "cell_type": "markdown",
   "metadata": {},
   "source": [
    "### DelegateArrayParameter"
   ]
  },
  {
   "cell_type": "markdown",
   "metadata": {},
   "source": [
    "Since ArrayParameters are not settable this one is a bit simpler and there is no 'set_fn' or 'set_allowed' kwargs. If a source is provided then the unit, shape and setpoint information is copied from the source parameter. The 'label' can be provided or defaults to that of the source."
   ]
  },
  {
   "cell_type": "code",
   "execution_count": 27,
   "metadata": {},
   "outputs": [],
   "source": [
    "delegate_array_param = DelegateArrayParameter('delegate_array_parameter',\n",
    "                                              source=my_instr.array_param,\n",
    "                                              label='my_special_label')"
   ]
  },
  {
   "cell_type": "code",
   "execution_count": 28,
   "metadata": {},
   "outputs": [
    {
     "name": "stdout",
     "output_type": "stream",
     "text": [
      "[0.   1.38 2.05 4.61 5.22 5.77]\n",
      "[0.   1.38 2.05 4.61 5.22 5.77]\n",
      "('array_param_setpoints',)\n",
      "('array_param_setpoints',)\n"
     ]
    }
   ],
   "source": [
    "delegate_array_param()\n",
    "print(delegate_array_param.get_latest())\n",
    "print(my_instr.array_param.get_latest())\n",
    "print(delegate_array_param.setpoint_names)\n",
    "print(my_instr.array_param.setpoint_names)"
   ]
  },
  {
   "cell_type": "markdown",
   "metadata": {},
   "source": [
    "Again the 'get_fn' can be used to execute code before returning the result"
   ]
  },
  {
   "cell_type": "code",
   "execution_count": 31,
   "metadata": {},
   "outputs": [],
   "source": [
    "delegate_array_param.get_fn = lambda: print('check this out')"
   ]
  },
  {
   "cell_type": "code",
   "execution_count": 32,
   "metadata": {},
   "outputs": [
    {
     "name": "stdout",
     "output_type": "stream",
     "text": [
      "check this out\n"
     ]
    },
    {
     "data": {
      "text/plain": [
       "array([0.  , 1.44, 3.39, 1.95, 1.28, 7.38])"
      ]
     },
     "execution_count": 32,
     "metadata": {},
     "output_type": "execute_result"
    }
   ],
   "source": [
    "delegate_array_param()"
   ]
  },
  {
   "cell_type": "markdown",
   "metadata": {},
   "source": [
    "As before getting can be prohibited by setting the get_allowed to False. Set is already prohibited."
   ]
  },
  {
   "cell_type": "code",
   "execution_count": 33,
   "metadata": {},
   "outputs": [
    {
     "name": "stdout",
     "output_type": "stream",
     "text": [
      "('Parmeter delegate_array_parameter not gettable', 'getting delegate_array_parameter')\n",
      "no set cmd found in Parameter delegate_array_parameter\n"
     ]
    }
   ],
   "source": [
    "delegate_array_param = DelegateArrayParameter('delegate_array_parameter',\n",
    "                                              source=my_instr.array_param,\n",
    "                                              get_allowed=False)\n",
    "try:\n",
    "    delegate_array_param()\n",
    "except RuntimeError as e:\n",
    "    print(e)\n",
    "\n",
    "try:\n",
    "    delegate_array_param(2)\n",
    "except RuntimeError as e:\n",
    "    print(e)"
   ]
  },
  {
   "cell_type": "markdown",
   "metadata": {},
   "source": [
    "If no source is provided then there is no option of returning saved values since setting is not allowed. By default a random array of the relevant shape is returned. The user must take care of minimally the shape but also setpoint information, unit and label if desired."
   ]
  },
  {
   "cell_type": "code",
   "execution_count": 34,
   "metadata": {},
   "outputs": [],
   "source": [
    "delegate_array_param = DelegateArrayParameter('delegate_array_parameter',\n",
    "                                              setpoints=tuple((np.arange(15),)),\n",
    "                                              setpoint_names=('my_setpoints',),\n",
    "                                              setpoint_labels=None,\n",
    "                                              setpoint_units=('G',),\n",
    "                                              label='My Very Special Parameter',\n",
    "                                              unit='V',\n",
    "                                              shape=(15,))"
   ]
  },
  {
   "cell_type": "code",
   "execution_count": 35,
   "metadata": {},
   "outputs": [
    {
     "name": "stdout",
     "output_type": "stream",
     "text": [
      "[0.29 0.62 0.19 0.42 0.06 0.28 0.02 0.99 0.45 0.11 0.78 0.17 0.28 0.46\n",
      " 0.26]\n",
      "(array([ 0,  1,  2,  3,  4,  5,  6,  7,  8,  9, 10, 11, 12, 13, 14]),)\n"
     ]
    }
   ],
   "source": [
    "print(delegate_array_param())\n",
    "print(delegate_array_param.setpoints)"
   ]
  },
  {
   "cell_type": "markdown",
   "metadata": {},
   "source": [
    "A Callable get_fn is available as before for use instead of the default random number generation (slightly less trivial as you should also maintain the shape of the Parameter in order not to break things). It can be provided via the init or set at any time."
   ]
  },
  {
   "cell_type": "code",
   "execution_count": 36,
   "metadata": {},
   "outputs": [
    {
     "name": "stdout",
     "output_type": "stream",
     "text": [
      "[0 1 2 3 4 5 6 7 8 9]\n",
      "[0 1 2 3 4]\n"
     ]
    }
   ],
   "source": [
    "delegate_array_param = DelegateArrayParameter('delegate_array_parameter',\n",
    "                                              shape=(10,),\n",
    "                                              get_fn=lambda: np.arange(10))\n",
    "print(delegate_array_param())\n",
    "delegate_array_param.shape = (5,)\n",
    "delegate_array_param.get_fn = lambda: np.arange(5)\n",
    "print(delegate_array_param())"
   ]
  },
  {
   "cell_type": "markdown",
   "metadata": {},
   "source": [
    "### DelegateMultiParameter"
   ]
  },
  {
   "cell_type": "markdown",
   "metadata": {},
   "source": [
    "Similarly the DelegateMultiParameter can interface with a MultiParameter or used to simulate one. Names, units and setpoint information is copied for the source but again the 'labels' can be set."
   ]
  },
  {
   "cell_type": "code",
   "execution_count": 6,
   "metadata": {},
   "outputs": [],
   "source": [
    "delegate_multi_param = DelegateMultiParameter('delegate_multi_parameter',\n",
    "                                              source=my_instr.multi_param,\n",
    "                                              get_fn=lambda: print(\"I'm still here\"))"
   ]
  },
  {
   "cell_type": "code",
   "execution_count": 7,
   "metadata": {},
   "outputs": [
    {
     "name": "stdout",
     "output_type": "stream",
     "text": [
      "I'm still here\n",
      "(0.5886495847726826, array([0. , 0.1, 0.2]))\n",
      "(0.5886495847726826, array([0. , 0.1, 0.2]))\n"
     ]
    }
   ],
   "source": [
    "delegate_multi_param()\n",
    "print(delegate_multi_param.get_latest())\n",
    "print(my_instr.multi_param.get_latest())"
   ]
  },
  {
   "cell_type": "markdown",
   "metadata": {},
   "source": [
    "As before get can be prohibited using the 'get_allowed' kwarg and setting is prohibited."
   ]
  },
  {
   "cell_type": "code",
   "execution_count": 10,
   "metadata": {},
   "outputs": [
    {
     "name": "stdout",
     "output_type": "stream",
     "text": [
      "('Parmeter delegate_multi_parameter not gettable', 'getting delegate_multi_parameter')\n",
      "no set cmd found in Parameter delegate_multi_parameter\n"
     ]
    }
   ],
   "source": [
    "delegate_multi_param.get_allowed = False\n",
    "\n",
    "try:\n",
    "    delegate_multi_param()\n",
    "except RuntimeError as e:\n",
    "    print(e)\n",
    "\n",
    "try:\n",
    "    delegate_multi_param(2)\n",
    "except RuntimeError as e:\n",
    "    print(e)"
   ]
  },
  {
   "cell_type": "markdown",
   "metadata": {},
   "source": [
    "If no source is provided then again the result defaults to being a random array matching the shapes or a callable get_fn can be provided."
   ]
  },
  {
   "cell_type": "code",
   "execution_count": 11,
   "metadata": {},
   "outputs": [],
   "source": [
    "delegate_multi_param = DelegateMultiParameter('delegate_multi_parameter',\n",
    "                                              shapes=((15,), (1,)),\n",
    "                                              get_fn=None)"
   ]
  },
  {
   "cell_type": "code",
   "execution_count": 12,
   "metadata": {},
   "outputs": [
    {
     "data": {
      "text/plain": [
       "(array([0.52, 0.29, 0.14, 0.43, 0.83, 0.5 , 0.44, 0.21, 0.49, 0.73, 0.28,\n",
       "        0.47, 0.89, 0.02, 0.87]), array([0.27]))"
      ]
     },
     "execution_count": 12,
     "metadata": {},
     "output_type": "execute_result"
    }
   ],
   "source": [
    "delegate_multi_param()"
   ]
  },
  {
   "cell_type": "code",
   "execution_count": 13,
   "metadata": {},
   "outputs": [],
   "source": [
    "delegate_multi_param = DelegateMultiParameter('delegate_multi_parameter',\n",
    "                                              shapes=((15,), (1,)),\n",
    "                                              get_fn = lambda: tuple((np.arange(15), np.array([12]))))"
   ]
  },
  {
   "cell_type": "code",
   "execution_count": 14,
   "metadata": {},
   "outputs": [
    {
     "data": {
      "text/plain": [
       "(array([ 0,  1,  2,  3,  4,  5,  6,  7,  8,  9, 10, 11, 12, 13, 14]),\n",
       " array([12]))"
      ]
     },
     "execution_count": 14,
     "metadata": {},
     "output_type": "execute_result"
    }
   ],
   "source": [
    "delegate_multi_param()"
   ]
  },
  {
   "cell_type": "markdown",
   "metadata": {},
   "source": [
    "### DelegateMultiChannelParameter"
   ]
  },
  {
   "cell_type": "markdown",
   "metadata": {},
   "source": [
    "A DelegateMultiChannelParameter can be used to track a MultiChannelParameter. If you really wanted to simulate this you should also simulate the underlying channels and their parameters so there is no 'simulation' for this parameter, you have to give it a channelist and paramname which are the equivalent of giving a source to another parameter.  "
   ]
  },
  {
   "cell_type": "code",
   "execution_count": 27,
   "metadata": {},
   "outputs": [],
   "source": [
    "delegate_multi_chan_param = DelegateMultiChannelParameter('delegate_multi_chan_parameter',\n",
    "                                                          channels=my_instr.chan_list,\n",
    "                                                          param_name='chan_param')"
   ]
  },
  {
   "cell_type": "code",
   "execution_count": 28,
   "metadata": {},
   "outputs": [
    {
     "name": "stdout",
     "output_type": "stream",
     "text": [
      "(10, 10)\n",
      "(10, 10)\n"
     ]
    }
   ],
   "source": [
    "print(delegate_multi_chan_param())\n",
    "print(my_instr.chan_list.chan_param())"
   ]
  },
  {
   "cell_type": "markdown",
   "metadata": {},
   "source": [
    "Setting it will result in the underlying channels being all set to this value"
   ]
  },
  {
   "cell_type": "code",
   "execution_count": 29,
   "metadata": {},
   "outputs": [
    {
     "name": "stdout",
     "output_type": "stream",
     "text": [
      "(1, 1)\n",
      "(1, 1)\n"
     ]
    }
   ],
   "source": [
    "delegate_multi_chan_param(1)\n",
    "print(delegate_multi_chan_param())\n",
    "print(my_instr.chan_list.chan_param())"
   ]
  },
  {
   "cell_type": "markdown",
   "metadata": {},
   "source": [
    "'get_fn' and 'set_fn' can be used to run before get and set"
   ]
  },
  {
   "cell_type": "code",
   "execution_count": 30,
   "metadata": {},
   "outputs": [
    {
     "name": "stdout",
     "output_type": "stream",
     "text": [
      "catch me if you can\n",
      "dammit you got me!\n"
     ]
    }
   ],
   "source": [
    "delegate_multi_chan_param.get_fn = lambda: print('catch me if you can')\n",
    "delegate_multi_chan_param.set_fn = lambda: print('dammit you got me!')\n",
    "\n",
    "delegate_multi_chan_param()\n",
    "delegate_multi_chan_param(1)"
   ]
  },
  {
   "cell_type": "markdown",
   "metadata": {},
   "source": [
    "Getting and setting can be prohibited using the 'get_allowed' and 'set_allowed' kwargs (or attributes)"
   ]
  },
  {
   "cell_type": "code",
   "execution_count": 31,
   "metadata": {},
   "outputs": [
    {
     "name": "stdout",
     "output_type": "stream",
     "text": [
      "('Parmeter delegate_multi_chan_parameter not gettable', 'getting delegate_multi_chan_parameter')\n",
      "('Parmeter delegate_multi_chan_parameter not settable', 'setting delegate_multi_chan_parameter to 2')\n"
     ]
    }
   ],
   "source": [
    "delegate_multi_chan_param.get_allowed = False\n",
    "delegate_multi_chan_param.set_allowed = False\n",
    "\n",
    "try:\n",
    "    delegate_multi_chan_param()\n",
    "except RuntimeError as e:\n",
    "    print(e)\n",
    "\n",
    "try:\n",
    "    delegate_multi_chan_param(2)\n",
    "except RuntimeError as e:\n",
    "    print(e)"
   ]
  },
  {
   "cell_type": "markdown",
   "metadata": {},
   "source": [
    "For a multi channel array parameter"
   ]
  },
  {
   "cell_type": "code",
   "execution_count": 32,
   "metadata": {},
   "outputs": [],
   "source": [
    "delegate_multi_chan_param = DelegateMultiChannelParameter('delegate_multi_chan_parameter',\n",
    "                                                          channels=my_instr.chan_list,\n",
    "                                                          param_name='chan_array_param')"
   ]
  },
  {
   "cell_type": "markdown",
   "metadata": {},
   "source": [
    "(NB each call generates a new random list so it's still working!)."
   ]
  },
  {
   "cell_type": "code",
   "execution_count": 33,
   "metadata": {},
   "outputs": [
    {
     "name": "stdout",
     "output_type": "stream",
     "text": [
      "(array([  31.98, 1288.5 ,  232.57,  687.61]), array([  69.04,  782.97, 1406.09, 3188.9 ]))\n",
      "(array([  18.54,  867.65, 2344.31, 2759.58]), array([  99.13, 1193.26, 2413.37, 3702.14]))\n"
     ]
    }
   ],
   "source": [
    "print(delegate_multi_chan_param())\n",
    "print(my_instr.chan_list.chan_array_param())"
   ]
  },
  {
   "cell_type": "markdown",
   "metadata": {},
   "source": [
    "Checking that names, setpoint names and setpoints are also copied"
   ]
  },
  {
   "cell_type": "code",
   "execution_count": 34,
   "metadata": {},
   "outputs": [
    {
     "name": "stdout",
     "output_type": "stream",
     "text": [
      "('my_instr_chan1_chan_array_param', 'my_instr_chan2_chan_array_param')\n",
      "('my_instr_chan1_chan_array_param', 'my_instr_chan2_chan_array_param')\n",
      "(('array_param_setpoints',), ('array_param_setpoints',))\n",
      "(((100.0, 1733.3333333333333, 3366.6666666666665, 5000.0),), ((100.0, 1733.3333333333333, 3366.6666666666665, 5000.0),))\n",
      "(((100.0, 1733.3333333333333, 3366.6666666666665, 5000.0),), ((100.0, 1733.3333333333333, 3366.6666666666665, 5000.0),))\n"
     ]
    }
   ],
   "source": [
    "print(delegate_multi_chan_param.names)\n",
    "print(my_instr.chan_list.chan_array_param.names)\n",
    "print(delegate_multi_chan_param.setpoint_names)\n",
    "print(my_instr.chan_list.chan_array_param.setpoints)\n",
    "print(delegate_multi_chan_param.setpoints)"
   ]
  },
  {
   "cell_type": "markdown",
   "metadata": {},
   "source": [
    "And updated... NB the delegate parameter attributes will only be updated when it is called"
   ]
  },
  {
   "cell_type": "code",
   "execution_count": 35,
   "metadata": {},
   "outputs": [
    {
     "name": "stdout",
     "output_type": "stream",
     "text": [
      "(('array_param_setpoints',), ('array_param_setpoints',))\n",
      "(('array_param_setpoints',), ('array_param_setpoints',))\n",
      "(('new_setpoints',), ('array_param_setpoints',))\n",
      "(('new_setpoints',), ('array_param_setpoints',))\n"
     ]
    }
   ],
   "source": [
    "print(my_instr.chan_list.chan_array_param.setpoint_names)\n",
    "print(delegate_multi_chan_param.setpoint_names)\n",
    "my_instr.chan_list.chan1.chan_array_param.setpoint_names = ('new_setpoints',)\n",
    "delegate_multi_chan_param()\n",
    "print(my_instr.chan_list.chan_array_param.setpoint_names)\n",
    "print(delegate_multi_chan_param.setpoint_names)"
   ]
  },
  {
   "cell_type": "markdown",
   "metadata": {},
   "source": [
    "The main use of this parameter is to create something that sticks around as compared to the QCoDeS implementation of a multi channel parameter which creates a new instance every time it is accessed. The extensions allow for easily prohibitting getting and setting or running code before get/set."
   ]
  },
  {
   "cell_type": "code",
   "execution_count": null,
   "metadata": {},
   "outputs": [],
   "source": []
  }
 ],
 "metadata": {
  "kernelspec": {
   "display_name": "Python 3",
   "language": "python",
   "name": "python3"
  },
  "language_info": {
   "codemirror_mode": {
    "name": "ipython",
    "version": 3
   },
   "file_extension": ".py",
   "mimetype": "text/x-python",
   "name": "python",
   "nbconvert_exporter": "python",
   "pygments_lexer": "ipython3",
   "version": "3.6.7"
  }
 },
 "nbformat": 4,
 "nbformat_minor": 2
}
