{
 "cells": [
  {
   "cell_type": "code",
   "execution_count": 1,
   "metadata": {},
   "outputs": [],
   "source": [
    "import numpy as np\n",
    "import os\n",
    "import yaml\n",
    "from lomentum.loader import read_element\n",
    "from lomentum.plotting import plotter\n",
    "from qdev_wrappers.cus"
   ]
  },
  {
   "cell_type": "code",
   "execution_count": 2,
   "metadata": {},
   "outputs": [],
   "source": [
    "with open('sidebanding_element.yaml') as f:\n",
    "    yf = yaml.safe_load(f)\n",
    "    template_element = read_element(yf)"
   ]
  },
  {
   "cell_type": "code",
   "execution_count": 3,
   "metadata": {},
   "outputs": [],
   "source": [
    "def print_params(instr):\n",
    "    print(instr.name.upper())\n",
    "    for k, v in instr.parameters.items():\n",
    "        if k != 'IDN':\n",
    "            print(k, ': ', v())\n",
    "    for k, v in instr.submodules.items():\n",
    "        if isinstance(v, InstrumentBase):\n",
    "            print('\\n')\n",
    "            print_params(v)"
   ]
  },
  {
   "cell_type": "code",
   "execution_count": null,
   "metadata": {},
   "outputs": [],
   "source": []
  }
 ],
 "metadata": {
  "kernelspec": {
   "display_name": "Python 3",
   "language": "python",
   "name": "python3"
  },
  "language_info": {
   "codemirror_mode": {
    "name": "ipython",
    "version": 3
   },
   "file_extension": ".py",
   "mimetype": "text/x-python",
   "name": "python",
   "nbconvert_exporter": "python",
   "pygments_lexer": "ipython3",
   "version": "3.6.7"
  }
 },
 "nbformat": 4,
 "nbformat_minor": 2
}
