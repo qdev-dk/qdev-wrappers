{
 "cells": [
  {
   "cell_type": "markdown",
   "metadata": {},
   "source": [
    "# Tutorial for the ParametricSequencer\n",
    "\n",
    "The ParametricSequencer is a virtual instrument that facilitates the control of an AWG. The basic principle of the sequencer is that it takes a single template element that is defined with symbols and creates a sequence from it by replicating it for different values for selected symbols. For example a template element could define a rectangular pulse with a certain amplitude defined through the symbol 'amplitude'. For given setpoints `('amplitude', [0.1, 0.2, 0.3])`  the parametric sequencer would create a sequence of three elements, all being rectangular pulses but with the given different amplitudes.\n",
    "\n",
    "### Sequence Parameters\n",
    "Furthermore one can use a template element that has further symbols, like 'pulse_duration' in the aforementioned example. These symbols become available as qcodes parameters and can be get and set. When setting one of those parameters the sequence gets updated and reuploaded.\n",
    "\n",
    "### Repetition and Seqeunce Modes and Setpoint Parameters\n",
    "The sequencer can be operated in three different `sequence_mode`s: 'sequence', 'element', and 'inner'.\n",
    "<br>\n",
    "- In 'sequence' mode the whole sequence is run.<br>\n",
    "- In 'element' mode, only a single element is run. For the selection of the single element the sequencer also provides qcodes parameters. Here a 'set'-command does not cause a reupload but simply a jump to the element that relises the requested parameters (more precisely: to the element that has a value closest to the requested value).\n",
    "- The 'inner' mode is not implemented yet. It is relevant when we have two sets of setpoints, whose tensor product defines the parameter grid and we want to repeat a certain row of inner setpoints in that space.\n",
    "<br>\n",
    "The sequencer can be operated in two different `repetition_mode`s: 'single', and 'inf'.\n",
    "<br>\n",
    "- In 'single' mode the sequence/element is run once when the run function is called.<br>\n",
    "- In 'inf' mode, the sequence/element is run on a loop infinitely\n",
    "\n",
    "### AWG interface\n",
    "The communication with the awgs is abstracted into an awg interface. This notebook can be run without an AWG present by using the SimulatedAWGInterface that simply plots the resulting actions. For real instruments, so far there is only an interface for a AWG5014.\n",
    "\n",
    "## Example\n",
    "Lets take a look at some example code.\n",
    "\n",
    "Lets first setup the AWG and the interface:"
   ]
  },
  {
   "cell_type": "code",
   "execution_count": 1,
   "metadata": {},
   "outputs": [],
   "source": [
    "def print_params(instr):\n",
    "    print(instr.name.upper())\n",
    "    for k, v in instr.parameters.items():\n",
    "        if k != 'IDN':\n",
    "            print(k, ': ', v())\n",
    "    for k, v in instr.submodules.items():\n",
    "        if isinstance(v, InstrumentBase):\n",
    "            print('\\n')\n",
    "            print_params(v)"
   ]
  },
  {
   "cell_type": "code",
   "execution_count": 2,
   "metadata": {},
   "outputs": [],
   "source": [
    "real_instrument_present = False"
   ]
  },
  {
   "cell_type": "code",
   "execution_count": 3,
   "metadata": {},
   "outputs": [],
   "source": [
    "import numpy as np\n",
    "from copy import copy\n",
    "from lomentum import Segment, SegmentGroup, Element, Sequence\n",
    "from lomentum.atoms import sine, ramp, flat, zero, marker_on, marker_off\n",
    "from lomentum.plotting import plotter\n",
    "\n",
    "from qdev_wrappers.customised_instruments.composite_instruments.parametric_sequencer.parametric_sequencer import ParametricSequencer\n",
    "from qdev_wrappers.customised_instruments.interfaces.AWG_interface import AWG5014Interface, SimulatedAWGInterface\n",
    "from qcodes.instrument.base import InstrumentBase, Instrument"
   ]
  },
  {
   "cell_type": "code",
   "execution_count": 4,
   "metadata": {},
   "outputs": [],
   "source": [
    "if real_instrument_present:\n",
    "    from qdev_wrappers.station_configurator import StationConfigurator\n",
    "    sc = StationConfigurator()\n",
    "    awg = sc.load_instrument('AWG5014')\n",
    "    awg.clock_freq(1e7)    \n",
    "    awg_if = AWG5014Interface('real_awg', awg=awg)\n",
    "else:\n",
    "    awg_if = SimulatedAWGInterface('simulated_awg')"
   ]
  },
  {
   "cell_type": "markdown",
   "metadata": {},
   "source": [
    "The following example uses a template element similar to the one used in the Broadbean (v1) Tutorial. It produces a centered pi pulse and a marker with a given delay:"
   ]
  },
  {
   "cell_type": "code",
   "execution_count": 5,
   "metadata": {},
   "outputs": [
    {
     "data": {
      "image/png": "[encoded data removed]",
      "text/plain": [
       "<Figure size 432x288 with 4 Axes>"
      ]
     },
     "metadata": {
      "needs_background": "light"
     },
     "output_type": "display_data"
    }
   ],
   "source": [
    "seg1 = zero(duration='flex_time')\n",
    "seg2 = flat(duration='pulse_duration', amplitude='pulse_amplitude')\n",
    "seg3 = zero(duration='flex_time')\n",
    "\n",
    "pi_pulse = SegmentGroup(seg1, seg2, seg3,\n",
    "                        duration='total_duration')\n",
    "\n",
    "m1 = marker_off(duration='pre_marker_time')\n",
    "m2 = marker_on(duration='marker_time')\n",
    "m3 = marker_off(duration='post_marker_time')\n",
    "\n",
    "markers = SegmentGroup(m1, m2, m3,\n",
    "                       duration='total_duration')\n",
    "\n",
    "def mytransformation(context):\n",
    "    context['flex_time'] = 0.5*(context['total_duration'] - context['pulse_duration'])\n",
    "    context['pre_marker_time'] = context['flex_time'] + context['marker_delay']\n",
    "    context['post_marker_time'] = context['total_duration'] - context['marker_time'] - context['pre_marker_time']\n",
    "\n",
    "template_element = Element(segments={1: pi_pulse,\n",
    "                                     '3M2': markers},\n",
    "                           sequencing={'nrep':2},\n",
    "                           transformation=mytransformation)\n",
    "\n",
    "context = {'total_duration': 3e-4,\n",
    "           'marker_time': 2e-5,\n",
    "           'marker_delay': 5e-5,\n",
    "           'pulse_duration': 0.5e-4,\n",
    "           'pulse_amplitude': 1}\n",
    "\n",
    "pulse_durations = np.linspace(0e-4,2.9e-4,3)\n",
    "\n",
    "inner_setpoints = ('pulse_duration', pulse_durations)\n",
    "\n",
    "plotter(template_element, context=context, SR=awg_if.sample_rate())"
   ]
  },
  {
   "cell_type": "markdown",
   "metadata": {},
   "source": [
    "As setpoints we want to use the pulse duration. The marker (lower row) will be automatically adjusted.\n",
    "\n",
    "Next, let us create the ParametricSequencer providing it with the awg interface, the template, the setpoints and the context:"
   ]
  },
  {
   "cell_type": "code",
   "execution_count": 6,
   "metadata": {},
   "outputs": [],
   "source": [
    "try:\n",
    "    ps = Instrument.find_instrument('PS')\n",
    "    ps.close()\n",
    "except KeyError:\n",
    "    pass\n",
    "ps = ParametricSequencer(name='PS', awg=awg_if)"
   ]
  },
  {
   "cell_type": "markdown",
   "metadata": {},
   "source": [
    "The sequencer repetition mode and sequence mode mirror those of the awg"
   ]
  },
  {
   "cell_type": "code",
   "execution_count": 7,
   "metadata": {},
   "outputs": [
    {
     "name": "stdout",
     "output_type": "stream",
     "text": [
      "PS\n",
      "sequence_mode :  sequence\n",
      "repetition_mode :  inf\n",
      "\n",
      "\n",
      "PS_SEQUENCE_PARAMETERS\n",
      "\n",
      "\n",
      "PS_REPEAT_PARAMETERS\n",
      "SIMULATED_AWG\n",
      "sample_rate :  1000000000.0\n",
      "sequence_mode :  sequence\n",
      "repetition_mode :  inf\n",
      "sleep_time :  0\n",
      "\n",
      "\n",
      "SIMULATED_AWG_CH0\n",
      "Vpp :  1\n",
      "\n",
      "\n",
      "SIMULATED_AWG_CH1\n",
      "Vpp :  1\n",
      "\n",
      "\n",
      "SIMULATED_AWG_CH2\n",
      "Vpp :  1\n",
      "\n",
      "\n",
      "SIMULATED_AWG_CH3\n",
      "Vpp :  1\n"
     ]
    }
   ],
   "source": [
    "print_params(ps)\n",
    "print_params(awg_if)"
   ]
  },
  {
   "cell_type": "markdown",
   "metadata": {},
   "source": [
    "Lets upload a sequence by calling `change_sequence`:"
   ]
  },
  {
   "cell_type": "code",
   "execution_count": 8,
   "metadata": {},
   "outputs": [
    {
     "name": "stdout",
     "output_type": "stream",
     "text": [
      "uploading\n",
      "running\n"
     ]
    },
    {
     "data": {
      "image/png": "[encoded data removed]",
      "text/plain": [
       "<Figure size 432x288 with 8 Axes>"
      ]
     },
     "metadata": {
      "needs_background": "light"
     },
     "output_type": "display_data"
    }
   ],
   "source": [
    "ps.change_sequence(template_element=template_element,\n",
    "                   context=context,\n",
    "                   inner_setpoints=inner_setpoints)"
   ]
  },
  {
   "cell_type": "markdown",
   "metadata": {},
   "source": [
    "As expected we got a sequence with three different pulse durations."
   ]
  },
  {
   "cell_type": "markdown",
   "metadata": {},
   "source": [
    "The sequence can be changed in parts:"
   ]
  },
  {
   "cell_type": "code",
   "execution_count": 9,
   "metadata": {},
   "outputs": [
    {
     "name": "stdout",
     "output_type": "stream",
     "text": [
      "uploading\n",
      "running\n"
     ]
    },
    {
     "data": {
      "image/png": "[encoded data removed]",
      "text/plain": [
       "<Figure size 432x288 with 8 Axes>"
      ]
     },
     "metadata": {
      "needs_background": "light"
     },
     "output_type": "display_data"
    }
   ],
   "source": [
    "ps.change_sequence(inner_setpoints=('pulse_duration', 0.5 * np.linspace(0e-4, 2.9e-4, 3)))"
   ]
  },
  {
   "cell_type": "code",
   "execution_count": 10,
   "metadata": {},
   "outputs": [
    {
     "name": "stdout",
     "output_type": "stream",
     "text": [
      "uploading\n",
      "running\n"
     ]
    },
    {
     "data": {
      "image/png": "[encoded data removed]",
      "text/plain": [
       "<Figure size 432x288 with 4 Axes>"
      ]
     },
     "metadata": {
      "needs_background": "light"
     },
     "output_type": "display_data"
    }
   ],
   "source": [
    "ps.change_sequence(inner_setpoints=None)"
   ]
  },
  {
   "cell_type": "code",
   "execution_count": 11,
   "metadata": {},
   "outputs": [
    {
     "name": "stdout",
     "output_type": "stream",
     "text": [
      "uploading\n",
      "running\n"
     ]
    },
    {
     "data": {
      "image/png": "[encoded data removed]",
      "text/plain": [
       "<Figure size 432x288 with 8 Axes>"
      ]
     },
     "metadata": {
      "needs_background": "light"
     },
     "output_type": "display_data"
    }
   ],
   "source": [
    "ps.change_sequence(inner_setpoints=inner_setpoints)"
   ]
  },
  {
   "cell_type": "markdown",
   "metadata": {},
   "source": [
    "\n",
    "### Sequence Parameters\n",
    "\n",
    "The sequence parameters, as provided in the context, are exposed in the channel 'sequence':"
   ]
  },
  {
   "cell_type": "code",
   "execution_count": 12,
   "metadata": {},
   "outputs": [
    {
     "data": {
      "text/plain": [
       "{'total_duration': <qcodes.instrument.parameter.Parameter: total_duration at 4450591016>,\n",
       " 'marker_time': <qcodes.instrument.parameter.Parameter: marker_time at 4849262776>,\n",
       " 'marker_delay': <qcodes.instrument.parameter.Parameter: marker_delay at 4858992008>,\n",
       " 'pulse_duration': <qcodes.instrument.parameter.Parameter: pulse_duration at 4858992288>,\n",
       " 'pulse_amplitude': <qcodes.instrument.parameter.Parameter: pulse_amplitude at 4858991504>}"
      ]
     },
     "execution_count": 12,
     "metadata": {},
     "output_type": "execute_result"
    }
   ],
   "source": [
    "ps.sequence.parameters"
   ]
  },
  {
   "cell_type": "markdown",
   "metadata": {},
   "source": [
    "The sequence can be modified via those parameters, causing a new sequence to be uploaded, for example lets increase the marker duration:"
   ]
  },
  {
   "cell_type": "code",
   "execution_count": 13,
   "metadata": {},
   "outputs": [
    {
     "name": "stdout",
     "output_type": "stream",
     "text": [
      "uploading\n",
      "running\n"
     ]
    },
    {
     "data": {
      "image/png": "[encoded data removed]",
      "text/plain": [
       "<Figure size 432x288 with 8 Axes>"
      ]
     },
     "metadata": {
      "needs_background": "light"
     },
     "output_type": "display_data"
    }
   ],
   "source": [
    "ps.sequence.marker_time(7e-5)"
   ]
  },
  {
   "cell_type": "markdown",
   "metadata": {},
   "source": [
    "### The single_upload Context Manager\n",
    "\n",
    "For each change of parameters the sequence is uploaded. To avoid this long process a context manager can be used to have a single upload even though multiple parameters are changed: (only one plot appears)"
   ]
  },
  {
   "cell_type": "code",
   "execution_count": 14,
   "metadata": {},
   "outputs": [
    {
     "name": "stdout",
     "output_type": "stream",
     "text": [
      "uploading\n",
      "running\n"
     ]
    },
    {
     "data": {
      "image/png": "[encoded data removed]",
      "text/plain": [
       "<Figure size 432x288 with 8 Axes>"
      ]
     },
     "metadata": {
      "needs_background": "light"
     },
     "output_type": "display_data"
    }
   ],
   "source": [
    "with ps.single_upload():\n",
    "    ps.sequence.marker_delay(5e-5)\n",
    "    ps.sequence.marker_time(6e-6)"
   ]
  },
  {
   "cell_type": "markdown",
   "metadata": {},
   "source": [
    "### Element Sequence Mode\n",
    "\n",
    "So far we have always run the full sequence but one can now try changing to 'element' sequence mode. Without having specified an element, the first element will be repeated:"
   ]
  },
  {
   "cell_type": "code",
   "execution_count": 15,
   "metadata": {},
   "outputs": [
    {
     "name": "stdout",
     "output_type": "stream",
     "text": [
      "setting sequence_mode to element\n",
      "setting element to 0\n",
      "running\n"
     ]
    },
    {
     "name": "stderr",
     "output_type": "stream",
     "text": [
      "/Users/natalie/Documents/PhD/Qdev/lomentum/lomentum/plotting.py:252: UserWarning: Attempting to set identical bottom==top results\n",
      "in singular transformations; automatically expanding.\n",
      "bottom=0.0, top=0.0\n",
      "  ax.set_ylim([ymin-0.05*yrange, ymax+0.2*yrange])\n"
     ]
    },
    {
     "data": {
      "image/png": "[encoded data removed]",
      "text/plain": [
       "<Figure size 432x288 with 4 Axes>"
      ]
     },
     "metadata": {
      "needs_background": "light"
     },
     "output_type": "display_data"
    }
   ],
   "source": [
    "ps.sequence_mode('element')"
   ]
  },
  {
   "cell_type": "markdown",
   "metadata": {},
   "source": [
    "You can change to a different element of the sequence by changing the value of the repeat parameter(s). The sequencer will warn you if the exact value is not in the sequence and will go to the element with the nearest value and tell you that value."
   ]
  },
  {
   "cell_type": "code",
   "execution_count": 16,
   "metadata": {},
   "outputs": [
    {
     "name": "stderr",
     "output_type": "stream",
     "text": [
      "/Users/natalie/Documents/PhD/Qdev/QdevWrappers/qdev_wrappers/customised_instruments/composite_instruments/parametric_sequencer/parametric_sequencer.py:364: UserWarning: Rounding setpoint value from 0.0001 to 0.000145.\n",
      "  warn(f'Rounding setpoint value from {value} to '\n"
     ]
    },
    {
     "name": "stdout",
     "output_type": "stream",
     "text": [
      "setting element to 1\n",
      "running\n"
     ]
    },
    {
     "data": {
      "image/png": "[encoded data removed]",
      "text/plain": [
       "<Figure size 432x288 with 4 Axes>"
      ]
     },
     "metadata": {
      "needs_background": "light"
     },
     "output_type": "display_data"
    }
   ],
   "source": [
    "ps.repeat.pulse_duration(1e-4)"
   ]
  },
  {
   "cell_type": "markdown",
   "metadata": {},
   "source": [
    "Switch between sequence mode and element mode remembers the current step:"
   ]
  },
  {
   "cell_type": "code",
   "execution_count": 17,
   "metadata": {},
   "outputs": [
    {
     "name": "stdout",
     "output_type": "stream",
     "text": [
      "setting sequence_mode to sequence\n",
      "running\n",
      "setting sequence_mode to element\n",
      "setting element to 1\n",
      "running\n"
     ]
    },
    {
     "data": {
      "image/png": "[encoded data removed]",
      "text/plain": [
       "<Figure size 432x288 with 8 Axes>"
      ]
     },
     "metadata": {
      "needs_background": "light"
     },
     "output_type": "display_data"
    },
    {
     "data": {
      "image/png": "[encoded data removed]",
      "text/plain": [
       "<Figure size 432x288 with 4 Axes>"
      ]
     },
     "metadata": {
      "needs_background": "light"
     },
     "output_type": "display_data"
    }
   ],
   "source": [
    "ps.sequence_mode('sequence')\n",
    "ps.sequence_mode('element')"
   ]
  },
  {
   "cell_type": "markdown",
   "metadata": {},
   "source": [
    "If the sequence mode is 'sequence' and the value of a repeat parameter is changed the effect will be to leave the sequence running but when the mode is next changed to 'element' the corresponding element will play."
   ]
  },
  {
   "cell_type": "code",
   "execution_count": 18,
   "metadata": {},
   "outputs": [
    {
     "name": "stdout",
     "output_type": "stream",
     "text": [
      "setting sequence_mode to sequence\n",
      "running\n",
      "setting sequence_mode to element\n",
      "setting element to 0\n"
     ]
    },
    {
     "name": "stderr",
     "output_type": "stream",
     "text": [
      "/Users/natalie/Documents/PhD/Qdev/QdevWrappers/qdev_wrappers/customised_instruments/composite_instruments/parametric_sequencer/parametric_sequencer.py:296: UserWarning: Warning: setting the inner setpoints to while being in sequence mode\n",
      "  warn(f\"Warning: setting the {['outer', 'inner'][set_inner]} \"\n"
     ]
    },
    {
     "name": "stdout",
     "output_type": "stream",
     "text": [
      "running\n"
     ]
    },
    {
     "data": {
      "image/png": "[encoded data removed]",
      "text/plain": [
       "<Figure size 432x288 with 8 Axes>"
      ]
     },
     "metadata": {
      "needs_background": "light"
     },
     "output_type": "display_data"
    },
    {
     "data": {
      "image/png": "[encoded data removed]",
      "text/plain": [
       "<Figure size 432x288 with 4 Axes>"
      ]
     },
     "metadata": {
      "needs_background": "light"
     },
     "output_type": "display_data"
    }
   ],
   "source": [
    "ps.sequence_mode('sequence')\n",
    "# expect a warning here\n",
    "ps.repeat.pulse_duration(0)\n",
    "ps.sequence_mode('element')"
   ]
  },
  {
   "cell_type": "markdown",
   "metadata": {},
   "source": [
    "### Single Repetition Mode\n",
    "\n",
    "We have so far always played the element/sequence on an infinite loop but it is also possible to play it only once if the repetition mode is changed to 'single'. The awg will then wait until run is called to run the sequence/element."
   ]
  },
  {
   "cell_type": "code",
   "execution_count": 19,
   "metadata": {},
   "outputs": [
    {
     "name": "stdout",
     "output_type": "stream",
     "text": [
      "setting repetition_mode to single\n"
     ]
    }
   ],
   "source": [
    "ps.repetition_mode('single')"
   ]
  },
  {
   "cell_type": "code",
   "execution_count": 20,
   "metadata": {},
   "outputs": [
    {
     "name": "stdout",
     "output_type": "stream",
     "text": [
      "running\n"
     ]
    }
   ],
   "source": [
    "ps.run()"
   ]
  },
  {
   "cell_type": "markdown",
   "metadata": {},
   "source": [
    "### First and initial elements"
   ]
  },
  {
   "cell_type": "markdown",
   "metadata": {},
   "source": [
    "There are currently two ways of adding an initial element, the first is to use the initial_element kwarg which prepends this template_element to the sequence, the second is to us the first_sequence_element kwarg which replaces the first element of the sequence. "
   ]
  },
  {
   "cell_type": "code",
   "execution_count": 21,
   "metadata": {},
   "outputs": [
    {
     "name": "stdout",
     "output_type": "stream",
     "text": [
      "setting sequence_mode to sequence\n",
      "setting repetition_mode to inf\n",
      "running\n"
     ]
    },
    {
     "data": {
      "image/png": "[encoded data removed]",
      "text/plain": [
       "<Figure size 432x288 with 8 Axes>"
      ]
     },
     "metadata": {
      "needs_background": "light"
     },
     "output_type": "display_data"
    }
   ],
   "source": [
    "ps.sequence_mode('sequence')\n",
    "ps.repetition_mode('inf')"
   ]
  },
  {
   "cell_type": "code",
   "execution_count": 22,
   "metadata": {},
   "outputs": [
    {
     "name": "stdout",
     "output_type": "stream",
     "text": [
      "uploading\n",
      "running\n"
     ]
    },
    {
     "data": {
      "image/png": "[encoded data removed]",
      "text/plain": [
       "<Figure size 432x288 with 10 Axes>"
      ]
     },
     "metadata": {
      "needs_background": "light"
     },
     "output_type": "display_data"
    }
   ],
   "source": [
    "first_element = copy(template_element)\n",
    "first_element.segments['3M2'] = marker_off(duration='total_duration')\n",
    "initial_element = Element(segments={1: zero(duration='total_duration'),\n",
    "                                    '3M2': markers},\n",
    "                          local_context={'pre_marker_time':5e-5,\n",
    "                                         'marker_time':2e-5,\n",
    "                                         'post_marker_time':5e-5,\n",
    "                                         'total_duration':12e-5})\n",
    "\n",
    "ps.change_sequence(initial_element=initial_element,\n",
    "                   first_sequence_element=first_element)"
   ]
  },
  {
   "cell_type": "markdown",
   "metadata": {},
   "source": [
    "So we see 1+3 elements (initial_element, first_element, sequence[1], sequence[2]). Setting the parameters works as expected."
   ]
  },
  {
   "cell_type": "code",
   "execution_count": 23,
   "metadata": {},
   "outputs": [
    {
     "name": "stdout",
     "output_type": "stream",
     "text": [
      "setting sequence_mode to element\n",
      "setting element to 2\n",
      "running\n"
     ]
    },
    {
     "data": {
      "image/png": "[encoded data removed]",
      "text/plain": [
       "<Figure size 432x288 with 4 Axes>"
      ]
     },
     "metadata": {
      "needs_background": "light"
     },
     "output_type": "display_data"
    }
   ],
   "source": [
    "ps.repeat.pulse_duration(1e-4)\n",
    "ps.sequence_mode('element')"
   ]
  },
  {
   "cell_type": "markdown",
   "metadata": {},
   "source": [
    "## 2D sequence\n",
    "Here is a slightly more complicated example with inner and outer setpoints, resulting into a 2D sequence.\n",
    "Furthermore an initial segment is specified, that gets prepended to the sequence and is not included in the stepping. There is also another new keyword argument: 'first_element' which enables to specify a different first element of the series (as requested). In contrast to the initial element, will this first element be included in the stepping"
   ]
  },
  {
   "cell_type": "code",
   "execution_count": 24,
   "metadata": {},
   "outputs": [
    {
     "name": "stdout",
     "output_type": "stream",
     "text": [
      "setting sequence_mode to sequence\n",
      "running\n"
     ]
    },
    {
     "data": {
      "image/png": "[encoded data removed]",
      "text/plain": [
       "<Figure size 432x288 with 10 Axes>"
      ]
     },
     "metadata": {
      "needs_background": "light"
     },
     "output_type": "display_data"
    }
   ],
   "source": [
    "ps.sequence_mode('sequence')"
   ]
  },
  {
   "cell_type": "code",
   "execution_count": 25,
   "metadata": {},
   "outputs": [
    {
     "name": "stdout",
     "output_type": "stream",
     "text": [
      "uploading\n",
      "running\n"
     ]
    },
    {
     "data": {
      "image/png": "[encoded data removed]",
      "text/plain": [
       "<Figure size 432x288 with 22 Axes>"
      ]
     },
     "metadata": {
      "needs_background": "light"
     },
     "output_type": "display_data"
    }
   ],
   "source": [
    "ps.change_sequence(inner_setpoints=('pulse_duration', pulse_durations),\n",
    "                   outer_setpoints=('pulse_amplitudes', [0, 0.5, 1]))"
   ]
  },
  {
   "cell_type": "markdown",
   "metadata": {},
   "source": [
    "As expected we see a sequence with 9+1 elements. The very first element only has the marker and the second one is missing the marker.\n",
    "\n",
    "\n",
    "We can step to an element that is now defined by the set of inner and outer setpoints. Here there is not yet any context manager to minimize the communication overhead and the awg will make 3 steps: (the error messag is due to plotting a signal with zero amplitude)"
   ]
  },
  {
   "cell_type": "markdown",
   "metadata": {},
   "source": [
    "## Next Steps\n",
    "- get the 'inner repeat mode' to work and\n",
    "- consider the possible ways of extending to keyword like paramters, e.g. storing different gates, that can be addressed by their name.\n",
    "- ability to reprogramm the order of the setpoints without uploading, so that a gate sequence can be created. Or possibly extend so that many sequences can be uploaded to the awg and switching between them is allowed. This would minimise upload time\n",
    "\n",
    "I am happy about any kind of feedback!"
   ]
  },
  {
   "cell_type": "code",
   "execution_count": null,
   "metadata": {},
   "outputs": [],
   "source": []
  }
 ],
 "metadata": {
  "kernelspec": {
   "display_name": "Python 3",
   "language": "python",
   "name": "python3"
  },
  "language_info": {
   "codemirror_mode": {
    "name": "ipython",
    "version": 3
   },
   "file_extension": ".py",
   "mimetype": "text/x-python",
   "name": "python",
   "nbconvert_exporter": "python",
   "pygments_lexer": "ipython3",
   "version": "3.6.7"
  },
  "toc": {
   "base_numbering": 1,
   "nav_menu": {},
   "number_sections": true,
   "sideBar": true,
   "skip_h1_title": false,
   "title_cell": "Table of Contents",
   "title_sidebar": "Contents",
   "toc_cell": false,
   "toc_position": {},
   "toc_section_display": true,
   "toc_window_display": false
  }
 },
 "nbformat": 4,
 "nbformat_minor": 2
}
