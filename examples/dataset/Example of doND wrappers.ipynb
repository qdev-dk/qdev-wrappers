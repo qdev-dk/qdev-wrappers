{
 "cells": [
  {
   "cell_type": "code",
   "execution_count": 1,
   "metadata": {},
   "outputs": [],
   "source": [
    "%matplotlib inline"
   ]
  },
  {
   "cell_type": "code",
   "execution_count": 25,
   "metadata": {},
   "outputs": [],
   "source": [
    "from functools import partial\n",
    "\n",
    "import numpy as np\n",
    "from qdev_wrappers.dataset.doNd import do0d, do1d, do2d\n",
    "\n",
    "\n",
    "from qcodes.dataset.database import initialise_database\n",
    "from qcodes.dataset.experiment_container import new_experiment\n",
    "from qcodes.dataset.plotting import plot_by_id\n",
    "try:\n",
    "    import plottr\n",
    "except ModuleNotFoundError:\n",
    "    pass\n",
    "import qcodes.config\n",
    "from qcodes.tests.instrument_mocks import DummyChannelInstrument"
   ]
  },
  {
   "cell_type": "markdown",
   "metadata": {},
   "source": [
    "# Live plotting"
   ]
  },
  {
   "cell_type": "markdown",
   "metadata": {},
   "source": [
    "This should perform live plotting automatically provided that you have plottr or qcplot installed and running. Plotter can be found at https://github.com/kouwenhovenlab/plottr and QCPlot in Teams. The live plotting needs to be configured as descried in in https://qcodes.github.io/Qcodes/examples/plotting/live_plotting.html\n",
    "\n"
   ]
  },
  {
   "cell_type": "code",
   "execution_count": 4,
   "metadata": {},
   "outputs": [
    {
     "name": "stderr",
     "output_type": "stream",
     "text": [
      "Upgrading database: : 0it [00:00, ?it/s]\n",
      "Upgrading database: : 0it [00:00, ?it/s]\n"
     ]
    },
    {
     "data": {
      "text/plain": [
       "doNd-tutorial#no sample#1@/Users/natalie/experiments.db\n",
       "-------------------------------------------------------"
      ]
     },
     "execution_count": 4,
     "metadata": {},
     "output_type": "execute_result"
    }
   ],
   "source": [
    "initialise_database()  # just in case no database file exists\n",
    "new_experiment(\"doNd-tutorial\", sample_name=\"no sample\")"
   ]
  },
  {
   "cell_type": "code",
   "execution_count": 5,
   "metadata": {},
   "outputs": [],
   "source": [
    "# preparatory mocking of physical setup\n",
    "from qcodes.tests.instrument_mocks import DummyInstrument\n",
    "dac = DummyInstrument('dac', gates=['ch1', 'ch2'])\n",
    "dmm = DummyInstrument('dmm', gates=['v1', 'v2'])\n",
    "channlinstrument = DummyChannelInstrument('arrayinst')"
   ]
  },
  {
   "cell_type": "code",
   "execution_count": 6,
   "metadata": {},
   "outputs": [],
   "source": [
    "# and we'll make a 2D gaussian to sample from/measure\n",
    "def gauss_model(x0: float, y0: float, sigma: float, noise: float=0.0005):\n",
    "    \"\"\"\n",
    "    Returns a generator sampling a gaussian. The gaussian is\n",
    "    normalised such that its maximal value is simply 1\n",
    "    \"\"\"\n",
    "    while True:\n",
    "        (x, y) = yield\n",
    "        model = np.exp(-((x0-x)**2+(y0-y)**2)/2/sigma**2)*np.exp(2*sigma**2)\n",
    "        noise = np.random.randn()*noise\n",
    "        yield model + noise"
   ]
  },
  {
   "cell_type": "code",
   "execution_count": 7,
   "metadata": {},
   "outputs": [],
   "source": [
    "# and finally wire up the dmm v1 to \"measure\" the gaussian\n",
    "\n",
    "gauss = gauss_model(0.1, 0.2, 0.25)\n",
    "next(gauss)\n",
    "\n",
    "def measure_gauss(dac):\n",
    "    val = gauss.send((dac.ch1.get(), dac.ch2.get()))\n",
    "    next(gauss)\n",
    "    return val\n",
    "\n",
    "dmm.v1.get = partial(measure_gauss, dac)\n",
    "dmm.v2.get = np.random.rand"
   ]
  },
  {
   "cell_type": "code",
   "execution_count": 8,
   "metadata": {},
   "outputs": [
    {
     "name": "stdout",
     "output_type": "stream",
     "text": [
      "Starting experimental run with id: 1\n",
      "plot by id took 0.037342071533203125\n"
     ]
    }
   ],
   "source": [
    "dataid, ax, cbax = do1d(dac.ch1, 0, 1, 100, 0.1, dmm.v1, dmm.v2)"
   ]
  },
  {
   "cell_type": "code",
   "execution_count": 9,
   "metadata": {
    "scrolled": false
   },
   "outputs": [
    {
     "name": "stdout",
     "output_type": "stream",
     "text": [
      "Starting experimental run with id: 2\n",
      "plot by id took 0.3784291744232178\n"
     ]
    }
   ],
   "source": [
    "dataid, ax, cbax = do2d(dac.ch1, 0, 1, 100, 0, \n",
    "                        dac.ch2, 0, 0.5, 100, 0, \n",
    "                        dmm.v1, dmm.v2,\n",
    "                        do_plot=True)"
   ]
  },
  {
   "cell_type": "markdown",
   "metadata": {},
   "source": [
    "# Adding some actions"
   ]
  },
  {
   "cell_type": "markdown",
   "metadata": {},
   "source": [
    "Below we will demonstarte that it's possible to execute actions both before and after each stage on the loops. We will leave these actions as simple prints so that one can see when they are triggered."
   ]
  },
  {
   "cell_type": "code",
   "execution_count": 15,
   "metadata": {},
   "outputs": [],
   "source": [
    "def before_action():\n",
    "    print(\"called before the loop\")\n",
    "\n",
    "def after_action():\n",
    "    print(\"called after the loop\")\n",
    "    \n",
    "def at_each_action():\n",
    "    print(\"called at each step\")\n",
    "    \n",
    "def before_inner_action():\n",
    "    print(\"called before inner loop\")\n",
    "    \n",
    "def after_inner_action():\n",
    "    print(\"called after inner loop\")"
   ]
  },
  {
   "cell_type": "code",
   "execution_count": 16,
   "metadata": {},
   "outputs": [
    {
     "name": "stdout",
     "output_type": "stream",
     "text": [
      "called before the loop\n",
      "Starting experimental run with id: 6\n",
      "called at each step\n",
      "called at each step\n",
      "called at each step\n",
      "called at each step\n",
      "called at each step\n",
      "called at each step\n",
      "called at each step\n",
      "called at each step\n",
      "called at each step\n",
      "called at each step\n",
      "called after the loop\n",
      "plot by id took 0.03285670280456543\n"
     ]
    }
   ],
   "source": [
    "dataid = do1d(dac.ch1, 0, 1, 10, 0.01, dmm.v1, dmm.v2, at_each_action,\n",
    "              enter_actions=(before_action,), exit_actions=(after_action,))"
   ]
  },
  {
   "cell_type": "code",
   "execution_count": 17,
   "metadata": {},
   "outputs": [
    {
     "name": "stdout",
     "output_type": "stream",
     "text": [
      "called before the loop\n",
      "Starting experimental run with id: 7\n",
      "called before inner loop\n",
      "called at each step\n",
      "called at each step\n",
      "called after inner loop\n",
      "called before inner loop\n",
      "called at each step\n",
      "called at each step\n",
      "called after inner loop\n",
      "called before inner loop\n",
      "called at each step\n",
      "called at each step\n",
      "called after inner loop\n",
      "called after the loop\n",
      "plot by id took 0.06169295310974121\n"
     ]
    }
   ],
   "source": [
    "dataid = do2d(dac.ch1, 0, 1, 3, 0.01, \n",
    "              dac.ch2, 0, 0.5, 2, 0.01, \n",
    "              dmm.v1, dmm.v2, at_each_action,\n",
    "              before_inner_actions=(before_inner_action,),\n",
    "              after_inner_actions=(after_inner_action,),\n",
    "              enter_actions=(before_action,), exit_actions=(after_action,))"
   ]
  },
  {
   "cell_type": "markdown",
   "metadata": {},
   "source": [
    "# Array and MultiParameters"
   ]
  },
  {
   "cell_type": "code",
   "execution_count": 18,
   "metadata": {},
   "outputs": [],
   "source": [
    "channlinstrument.A.dummy_array_parameter.get = lambda: np.random.rand(5)"
   ]
  },
  {
   "cell_type": "code",
   "execution_count": 19,
   "metadata": {},
   "outputs": [
    {
     "name": "stdout",
     "output_type": "stream",
     "text": [
      "Starting experimental run with id: 8\n",
      "plot by id took 0.03528785705566406\n"
     ]
    }
   ],
   "source": [
    "dataid = do1d(dac.ch1, 0, 1, 10, 0.01, channlinstrument.A.dummy_array_parameter)"
   ]
  },
  {
   "cell_type": "markdown",
   "metadata": {},
   "source": [
    "## do0D"
   ]
  },
  {
   "cell_type": "markdown",
   "metadata": {},
   "source": [
    "Perhaps we just want to capture the arrayparameter without doing any sweep"
   ]
  },
  {
   "cell_type": "markdown",
   "metadata": {},
   "source": [
    "dataid = do0d(channlinstrument.A.dummy_array_parameter)"
   ]
  },
  {
   "cell_type": "markdown",
   "metadata": {},
   "source": [
    "Now lets try capturing 2 Array parameters.\n",
    "First lets change the setpoints of one of them a bit to make them standout from each other"
   ]
  },
  {
   "cell_type": "code",
   "execution_count": 20,
   "metadata": {},
   "outputs": [],
   "source": [
    "channlinstrument.B.dummy_array_parameter.setpoints = ((9.0, 10.0, 11.0, 12.0, 13.0),)"
   ]
  },
  {
   "cell_type": "code",
   "execution_count": 21,
   "metadata": {},
   "outputs": [
    {
     "name": "stdout",
     "output_type": "stream",
     "text": [
      "Starting experimental run with id: 9\n",
      "plot by id took 0.045063018798828125\n"
     ]
    }
   ],
   "source": [
    "dataid = do0d(channlinstrument.A.dummy_array_parameter, channlinstrument.B.dummy_array_parameter)"
   ]
  },
  {
   "cell_type": "code",
   "execution_count": null,
   "metadata": {},
   "outputs": [],
   "source": []
  }
 ],
 "metadata": {
  "kernelspec": {
   "display_name": "Python 3",
   "language": "python",
   "name": "python3"
  },
  "language_info": {
   "codemirror_mode": {
    "name": "ipython",
    "version": 3
   },
   "file_extension": ".py",
   "mimetype": "text/x-python",
   "name": "python",
   "nbconvert_exporter": "python",
   "pygments_lexer": "ipython3",
   "version": "3.6.7"
  }
 },
 "nbformat": 4,
 "nbformat_minor": 2
}
